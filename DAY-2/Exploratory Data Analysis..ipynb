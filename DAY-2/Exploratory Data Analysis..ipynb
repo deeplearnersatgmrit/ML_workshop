{
 "cells": [
  {
   "cell_type": "markdown",
   "metadata": {
    "colab_type": "text",
    "id": "mQFbageR7eSe"
   },
   "source": [
    "# 3. Plotting for Exploratory data analysis (EDA)"
   ]
  },
  {
   "cell_type": "markdown",
   "metadata": {
    "colab_type": "text",
    "id": "KRHB4cUi7eSg"
   },
   "source": [
    "# (3.1) Basic Terminology"
   ]
  },
  {
   "cell_type": "markdown",
   "metadata": {
    "colab_type": "text",
    "id": "EahE8lDl7eSj"
   },
   "source": [
    "* What is EDA?\n",
    "* Data-point/vector/Observation\n",
    "* Data-set.\n",
    "* Feature/Variable/Input-variable/Dependent-varibale\n",
    "* Label/Indepdendent-variable/Output-varible/Class/Class-label/Response label\n",
    "* Vector: 2-D, 3-D, 4-D,.... n-D\n",
    "\n",
    "Q. What is a 1-D vector: Scalar\n",
    "\n"
   ]
  },
  {
   "cell_type": "markdown",
   "metadata": {
    "colab_type": "text",
    "id": "IYm45v1y7eSj"
   },
   "source": [
    "## Iris Flower dataset"
   ]
  },
  {
   "cell_type": "markdown",
   "metadata": {
    "colab_type": "text",
    "id": "iW8l_61b7eSk"
   },
   "source": [
    "Toy  Dataset: Iris Dataset: [https://en.wikipedia.org/wiki/Iris_flower_data_set]\n",
    "* A simple dataset to learn the basics.\n",
    "* 3 flowers of Iris species. [see images on wikipedia link above]\n",
    "* 1936 by Ronald Fisher.\n",
    "* Petal and Sepal: http://terpconnect.umd.edu/~petersd/666/html/iris_with_labels.jpg\n",
    "*  Objective: Classify a new flower as belonging to one of the 3 classes given the 4 features.\n",
    "* Importance of domain knowledge.\n",
    "* Why use petal and sepal dimensions as features?\n",
    "* Why do we not use 'color' as a feature?\n",
    "\n"
   ]
  },
  {
   "cell_type": "code",
   "execution_count": null,
   "metadata": {
    "colab": {
     "base_uri": "https://localhost:8080/",
     "height": 425
    },
    "colab_type": "code",
    "executionInfo": {
     "elapsed": 1598,
     "status": "error",
     "timestamp": 1560498105276,
     "user": {
      "displayName": "Applied AI Course",
      "photoUrl": "https://lh3.googleusercontent.com/-EsJzSyawCkQ/AAAAAAAAAAI/AAAAAAAAEIk/w9ORR2FfvaE/s64/photo.jpg",
      "userId": "06629147635963609455"
     },
     "user_tz": -330
    },
    "id": "p2oKsGVW7eSm",
    "outputId": "1d72c0c2-016b-4c18-8307-1c6f92fb04e9"
   },
   "outputs": [],
   "source": [
    "import pandas as pd\n",
    "import seaborn as sns\n",
    "import matplotlib.pyplot as plt\n",
    "import numpy as np\n",
    "\n",
    "\n",
    "'''downlaod iris.csv from https://raw.githubusercontent.com/uiuc-cse/data-fa14/gh-pages/data/iris.csv'''\n",
    "#Load Iris.csv into a pandas dataFrame.\n",
    "iris = pd.read_csv(\"iris.csv\")\n",
    "\n"
   ]
  },
  {
   "cell_type": "code",
   "execution_count": null,
   "metadata": {
    "colab": {},
    "colab_type": "code",
    "id": "qs8rT4Up7eSz",
    "outputId": "376f286f-2e9e-4df1-d145-aba2dc4b5c3c"
   },
   "outputs": [],
   "source": [
    "# (Q) how many data-points and features?\n",
    "print (iris.shape)"
   ]
  },
  {
   "cell_type": "code",
   "execution_count": null,
   "metadata": {
    "colab": {},
    "colab_type": "code",
    "id": "3RT2Gdlq7eTC",
    "outputId": "9e162731-b25e-4169-97eb-a66b9c6df076",
    "scrolled": true
   },
   "outputs": [],
   "source": [
    "#(Q) What are the column names in our dataset?\n",
    "print (iris.columns)"
   ]
  },
  {
   "cell_type": "code",
   "execution_count": null,
   "metadata": {
    "colab": {},
    "colab_type": "code",
    "id": "4ARdqlVj7eTH",
    "outputId": "c8b7c898-35af-4328-e91e-393d5ce361a1"
   },
   "outputs": [],
   "source": [
    "#(Q) How many data points for each class are present? \n",
    "#(or) How many flowers for each species are present?\n",
    "\n",
    "iris[\"species\"].value_counts()\n",
    "# balanced-dataset vs imbalanced datasets\n",
    "#Iris is a balanced dataset as the number of data points for every class is 50."
   ]
  },
  {
   "cell_type": "markdown",
   "metadata": {
    "colab_type": "text",
    "id": "uExhLJ1-7eTT"
   },
   "source": [
    "# (3.2) 2-D Scatter Plot"
   ]
  },
  {
   "cell_type": "code",
   "execution_count": null,
   "metadata": {
    "colab": {},
    "colab_type": "code",
    "id": "m8fu7kKy7eTU",
    "outputId": "201c4f80-4071-4e22-db53-402547ccb725",
    "scrolled": false
   },
   "outputs": [],
   "source": [
    "#2-D scatter plot:\n",
    "#ALWAYS understand the axis: labels and scale.\n",
    "\n",
    "iris.plot(kind='scatter', x='sepal_length', y='sepal_width') ;\n",
    "plt.show()\n",
    "\n",
    "#cannot make much sense out it. \n",
    "#What if we color the points by thier class-label/flower-type."
   ]
  },
  {
   "cell_type": "code",
   "execution_count": null,
   "metadata": {
    "colab": {},
    "colab_type": "code",
    "id": "fCu1FPvO7eTc",
    "outputId": "f6c71a2f-0947-421c-a50a-221df66f4f8c",
    "scrolled": true
   },
   "outputs": [],
   "source": [
    "# 2-D Scatter plot with color-coding for each flower type/class.\n",
    "# Here 'sns' corresponds to seaborn. \n",
    "sns.set_style(\"whitegrid\");\n",
    "sns.FacetGrid(iris, hue=\"species\", size=4) \\\n",
    "   .map(plt.scatter, \"sepal_length\", \"sepal_width\") \\\n",
    "   .add_legend();\n",
    "plt.show();\n",
    "\n",
    "# Notice that the blue points can be easily seperated \n",
    "# from red and green by drawing a line. \n",
    "# But red and green data points cannot be easily seperated.\n",
    "# Can we draw multiple 2-D scatter plots for each combination of features?\n",
    "# How many cobinations exist? 4C2 = 6."
   ]
  },
  {
   "cell_type": "markdown",
   "metadata": {
    "colab_type": "text",
    "id": "2L5YF3Tj7eTl"
   },
   "source": [
    "**Observation(s):**\n",
    "1. Using sepal_length and sepal_width features, we can distinguish Setosa flowers from others.\n",
    "2. Seperating Versicolor from Viginica is much harder as they have considerable overlap."
   ]
  },
  {
   "cell_type": "markdown",
   "metadata": {
    "colab_type": "text",
    "id": "TdiZ9lLL7eTn"
   },
   "source": [
    "## 3D Scatter plot\n",
    "\n",
    "https://plot.ly/pandas/3d-scatter-plots/\n",
    "\n",
    "Needs a lot to mouse interaction to interpret data.\n",
    "\n",
    "What about 4-D, 5-D or n-D scatter plot?"
   ]
  },
  {
   "cell_type": "markdown",
   "metadata": {
    "colab_type": "text",
    "id": "ikdQY1fR7eTp"
   },
   "source": [
    "#  (3.3) Pair-plot"
   ]
  },
  {
   "cell_type": "code",
   "execution_count": null,
   "metadata": {
    "colab": {},
    "colab_type": "code",
    "id": "TkuKNKA37eTs",
    "outputId": "b0b81e40-40d7-44eb-f446-d5509c9c7d94"
   },
   "outputs": [],
   "source": [
    "# pairwise scatter plot: Pair-Plot\n",
    "# Dis-advantages: \n",
    "##Can be used when number of features are high.\n",
    "##Cannot visualize higher dimensional patterns in 3-D and 4-D. \n",
    "#Only possible to view 2D patterns.\n",
    "plt.close();\n",
    "sns.set_style(\"whitegrid\");\n",
    "sns.pairplot(iris, hue=\"species\", size=3);\n",
    "plt.show()\n",
    "# NOTE: the diagnol elements are PDFs for each feature. PDFs are expalined below."
   ]
  },
  {
   "cell_type": "markdown",
   "metadata": {
    "colab_type": "text",
    "id": "aJAPMfBU7eT1"
   },
   "source": [
    "**Observations**\n",
    "1. petal_length and petal_width are the most useful features to identify various flower types.\n",
    "2. While Setosa can be easily identified (linearly seperable), Virnica and Versicolor have some overlap (almost linearly seperable).\n",
    "3. We can find \"lines\" and \"if-else\" conditions to build a simple model to classify the flower types."
   ]
  },
  {
   "cell_type": "markdown",
   "metadata": {
    "colab_type": "text",
    "id": "LWsvwUkL7eT4"
   },
   "source": [
    "# (3.4) Histogram, PDF, CDF"
   ]
  },
  {
   "cell_type": "code",
   "execution_count": null,
   "metadata": {
    "colab": {},
    "colab_type": "code",
    "id": "wUvH2M817eT6",
    "outputId": "1f577f0d-475c-4710-b6d3-f744f558fa02",
    "scrolled": true
   },
   "outputs": [],
   "source": [
    "# What about 1-D scatter plot using just one feature?\n",
    "#1-D scatter plot of petal-length\n",
    "import numpy as np\n",
    "iris_setosa = iris.loc[iris[\"species\"] == \"setosa\"];\n",
    "iris_virginica = iris.loc[iris[\"species\"] == \"virginica\"];\n",
    "iris_versicolor = iris.loc[iris[\"species\"] == \"versicolor\"];\n",
    "#print(iris_setosa[\"petal_length\"])\n",
    "plt.plot(iris_setosa[\"petal_length\"], np.zeros_like(iris_setosa['petal_length']), 'o')\n",
    "plt.plot(iris_versicolor[\"petal_length\"], np.zeros_like(iris_versicolor['petal_length']), 'o')\n",
    "plt.plot(iris_virginica[\"petal_length\"], np.zeros_like(iris_virginica['petal_length']), 'o')\n",
    "\n",
    "plt.show()\n",
    "#Disadvantages of 1-D scatter plot: Very hard to make sense as points \n",
    "#are overlapping a lot.\n",
    "#Are there better ways of visualizing 1-D scatter plots?"
   ]
  },
  {
   "cell_type": "code",
   "execution_count": null,
   "metadata": {
    "colab": {},
    "colab_type": "code",
    "id": "gjZTt3WS7eUD",
    "outputId": "f71f78ef-2d20-408e-f187-707e5b31b3e1",
    "scrolled": false
   },
   "outputs": [],
   "source": [
    "sns.FacetGrid(iris, hue=\"species\", size=5) \\\n",
    "   .map(sns.distplot, \"petal_length\") \\\n",
    "   .add_legend();\n",
    "plt.show();\n",
    "\n"
   ]
  },
  {
   "cell_type": "code",
   "execution_count": null,
   "metadata": {
    "colab": {},
    "colab_type": "code",
    "id": "zHGF-B3h7eUK",
    "outputId": "9f613f86-35a8-47f9-94e3-3fd74a25588f"
   },
   "outputs": [],
   "source": [
    "sns.FacetGrid(iris, hue=\"species\", size=5) \\\n",
    "   .map(sns.distplot, \"petal_width\") \\\n",
    "   .add_legend();\n",
    "plt.show();"
   ]
  },
  {
   "cell_type": "code",
   "execution_count": null,
   "metadata": {
    "colab": {},
    "colab_type": "code",
    "id": "eKMrbu917eUU",
    "outputId": "8d2132d0-66ae-484d-a70f-2ba2574a9989"
   },
   "outputs": [],
   "source": [
    "sns.FacetGrid(iris, hue=\"species\", size=5) \\\n",
    "   .map(sns.distplot, \"sepal_length\") \\\n",
    "   .add_legend();\n",
    "plt.show();"
   ]
  },
  {
   "cell_type": "code",
   "execution_count": null,
   "metadata": {
    "colab": {},
    "colab_type": "code",
    "id": "RyusT9e47eUb",
    "outputId": "0cf8dda7-ece7-4fcc-f9a6-7306c0525ffa"
   },
   "outputs": [],
   "source": [
    "sns.FacetGrid(iris, hue=\"species\", size=5) \\\n",
    "   .map(sns.distplot, \"sepal_width\") \\\n",
    "   .add_legend();\n",
    "plt.show();"
   ]
  },
  {
   "cell_type": "code",
   "execution_count": null,
   "metadata": {
    "colab": {},
    "colab_type": "code",
    "id": "sUTbOpd67eUg"
   },
   "outputs": [],
   "source": [
    "# Histograms and Probability Density Functions (PDF) using KDE\n",
    "# How to compute PDFs using counts/frequencies of data points in each window.\n",
    "# How window width effects the PDF plot.\n",
    "\n",
    "\n",
    "# Interpreting a PDF:\n",
    "## why is it called a density plot?\n",
    "## Why is it called a probability plot?\n",
    "## for each value of petal_length, what does the value on y-axis mean?\n",
    "# Notice that we can write a simple if..else condition as if(petal_length) < 2.5 then flower type is setosa.\n",
    "# Using just one feature, we can build a simple \"model\" suing if..else... statements.\n",
    "\n",
    "# Disadv of PDF: Can we say what percentage of versicolor points have a petal_length of less than 5?\n",
    "\n",
    "# Do some of these plots look like a bell-curve you studied in under-grad?\n",
    "# Gaussian/Normal distribution.\n",
    "# What is \"normal\" about normal distribution?\n",
    "# e.g: Hieghts of male students in a class.\n",
    "# One of the most frequent distributions in nature.\n"
   ]
  },
  {
   "cell_type": "code",
   "execution_count": null,
   "metadata": {
    "colab": {},
    "colab_type": "code",
    "id": "5w3mEOUR7eUk",
    "outputId": "bc3aeb10-a564-449e-8ca7-9b60d268d01b",
    "scrolled": true
   },
   "outputs": [],
   "source": [
    "\n",
    "# Need for Cumulative Distribution Function (CDF)\n",
    "# We can visually see what percentage of versicolor flowers have a \n",
    "# petal_length of less than 5?\n",
    "# How to construct a CDF?\n",
    "# How to read a CDF?\n",
    "\n",
    "#Plot CDF of petal_length\n",
    "\n",
    "counts, bin_edges = np.histogram(iris_setosa['petal_length'], bins=10, \n",
    "                                 density = True)\n",
    "pdf = counts/(sum(counts))\n",
    "print(pdf);\n",
    "print(bin_edges);\n",
    "cdf = np.cumsum(pdf)\n",
    "plt.plot(bin_edges[1:],pdf);\n",
    "plt.plot(bin_edges[1:], cdf)\n",
    "\n",
    "\n",
    "counts, bin_edges = np.histogram(iris_setosa['petal_length'], bins=20, \n",
    "                                 density = True)\n",
    "pdf = counts/(sum(counts))\n",
    "plt.plot(bin_edges[1:],pdf);\n",
    "\n",
    "plt.show();\n"
   ]
  },
  {
   "cell_type": "code",
   "execution_count": null,
   "metadata": {
    "colab": {},
    "colab_type": "code",
    "id": "KDX4yFj17eUq",
    "outputId": "5926d33d-e5fd-48eb-be13-43b5166ab05e"
   },
   "outputs": [],
   "source": [
    "# Need for Cumulative Distribution Function (CDF)\n",
    "# We can visually see what percentage of versicolor flowers have a \n",
    "# petal_length of less than 1.6?\n",
    "# How to construct a CDF?\n",
    "# How to read a CDF?\n",
    "\n",
    "#Plot CDF of petal_length\n",
    "\n",
    "counts, bin_edges = np.histogram(iris_setosa['petal_length'], bins=10, \n",
    "                                 density = True)\n",
    "pdf = counts/(sum(counts))\n",
    "print(pdf);\n",
    "print(bin_edges)\n",
    "\n",
    "#compute CDF\n",
    "cdf = np.cumsum(pdf)\n",
    "plt.plot(bin_edges[1:],pdf)\n",
    "plt.plot(bin_edges[1:], cdf)\n",
    "\n",
    "\n",
    "\n",
    "plt.show();"
   ]
  },
  {
   "cell_type": "code",
   "execution_count": null,
   "metadata": {
    "colab": {},
    "colab_type": "code",
    "id": "TjHpJqSz7eUw",
    "outputId": "fd91266a-0ad3-4ef2-8877-0797528ba053"
   },
   "outputs": [],
   "source": [
    "# Plots of CDF of petal_length for various types of flowers.\n",
    "\n",
    "# Misclassification error if you use petal_length only.\n",
    "\n",
    "counts, bin_edges = np.histogram(iris_setosa['petal_length'], bins=10, \n",
    "                                 density = True)\n",
    "pdf = counts/(sum(counts))\n",
    "print(pdf);\n",
    "print(bin_edges)\n",
    "cdf = np.cumsum(pdf)\n",
    "plt.plot(bin_edges[1:],pdf)\n",
    "plt.plot(bin_edges[1:], cdf)\n",
    "\n",
    "\n",
    "# virginica\n",
    "counts, bin_edges = np.histogram(iris_virginica['petal_length'], bins=10, \n",
    "                                 density = True)\n",
    "pdf = counts/(sum(counts))\n",
    "print(pdf);\n",
    "print(bin_edges)\n",
    "cdf = np.cumsum(pdf)\n",
    "plt.plot(bin_edges[1:],pdf)\n",
    "plt.plot(bin_edges[1:], cdf)\n",
    "\n",
    "\n",
    "#versicolor\n",
    "counts, bin_edges = np.histogram(iris_versicolor['petal_length'], bins=10, \n",
    "                                 density = True)\n",
    "pdf = counts/(sum(counts))\n",
    "print(pdf);\n",
    "print(bin_edges)\n",
    "cdf = np.cumsum(pdf)\n",
    "plt.plot(bin_edges[1:],pdf)\n",
    "plt.plot(bin_edges[1:], cdf)\n",
    "\n",
    "\n",
    "plt.show();"
   ]
  },
  {
   "cell_type": "markdown",
   "metadata": {
    "colab_type": "text",
    "id": "1JykhrwO7eUz"
   },
   "source": [
    "# (3.5) Mean, Variance and Std-dev"
   ]
  },
  {
   "cell_type": "code",
   "execution_count": null,
   "metadata": {
    "colab": {},
    "colab_type": "code",
    "id": "7rhG9mB17eU0",
    "outputId": "d6383c6f-1007-4876-9907-ef4dc0a58982"
   },
   "outputs": [],
   "source": [
    "#Mean, Variance, Std-deviation,  \n",
    "print(\"Means:\")\n",
    "print(np.mean(iris_setosa[\"petal_length\"]))\n",
    "#Mean with an outlier.\n",
    "print(np.mean(np.append(iris_setosa[\"petal_length\"],50)));\n",
    "print(np.mean(iris_virginica[\"petal_length\"]))\n",
    "print(np.mean(iris_versicolor[\"petal_length\"]))\n",
    "\n",
    "print(\"\\nStd-dev:\");\n",
    "print(np.std(iris_setosa[\"petal_length\"]))\n",
    "print(np.std(iris_virginica[\"petal_length\"]))\n",
    "print(np.std(iris_versicolor[\"petal_length\"]))\n",
    "\n",
    "\n",
    "\n"
   ]
  },
  {
   "cell_type": "markdown",
   "metadata": {
    "colab_type": "text",
    "id": "abmP92Sn7eU4"
   },
   "source": [
    "# (3.6) Median, Percentile, Quantile, IQR, MAD"
   ]
  },
  {
   "cell_type": "code",
   "execution_count": null,
   "metadata": {
    "colab": {},
    "colab_type": "code",
    "id": "cICgORTF7eU5",
    "outputId": "bf2a36d9-e954-4ce1-ce5e-69c8999a743b"
   },
   "outputs": [],
   "source": [
    "#Median, Quantiles, Percentiles, IQR.\n",
    "print(\"\\nMedians:\")\n",
    "print(np.median(iris_setosa[\"petal_length\"]))\n",
    "#Median with an outlier\n",
    "print(np.median(np.append(iris_setosa[\"petal_length\"],50)));\n",
    "print(np.median(iris_virginica[\"petal_length\"]))\n",
    "print(np.median(iris_versicolor[\"petal_length\"]))\n",
    "\n",
    "\n",
    "print(\"\\nQuantiles:\")\n",
    "print(np.percentile(iris_setosa[\"petal_length\"],np.arange(0, 100, 25)))\n",
    "print(np.percentile(iris_virginica[\"petal_length\"],np.arange(0, 100, 25)))\n",
    "print(np.percentile(iris_versicolor[\"petal_length\"], np.arange(0, 100, 25)))\n",
    "\n",
    "print(\"\\n90th Percentiles:\")\n",
    "print(np.percentile(iris_setosa[\"petal_length\"],90))\n",
    "print(np.percentile(iris_virginica[\"petal_length\"],90))\n",
    "print(np.percentile(iris_versicolor[\"petal_length\"], 90))\n",
    "\n",
    "from statsmodels import robust\n",
    "print (\"\\nMedian Absolute Deviation\")\n",
    "print(robust.mad(iris_setosa[\"petal_length\"]))\n",
    "print(robust.mad(iris_virginica[\"petal_length\"]))\n",
    "print(robust.mad(iris_versicolor[\"petal_length\"]))\n"
   ]
  },
  {
   "cell_type": "markdown",
   "metadata": {
    "colab_type": "text",
    "id": "6OHiqoR-7eU9"
   },
   "source": [
    "# (3.7) Box plot and Whiskers"
   ]
  },
  {
   "cell_type": "code",
   "execution_count": null,
   "metadata": {
    "colab": {},
    "colab_type": "code",
    "id": "s4ZG6dZw7eU_",
    "outputId": "e71ac9d1-fb27-4825-e75e-21d8fbc3f072",
    "scrolled": true
   },
   "outputs": [],
   "source": [
    "\n",
    "#Box-plot with whiskers: another method of visualizing the  1-D scatter plot more intuitivey.\n",
    "# The Concept of median, percentile, quantile.\n",
    "# How to draw the box in the box-plot?\n",
    "# How to draw whiskers: [no standard way] Could use min and max or use other complex statistical techniques.\n",
    "# IQR like idea.\n",
    "\n",
    "#NOTE: IN the plot below, a technique call inter-quartile range is used in plotting the whiskers. \n",
    "#Whiskers in the plot below donot correposnd to the min and max values.\n",
    "\n",
    "#Box-plot can be visualized as a PDF on the side-ways.\n",
    "\n",
    "sns.boxplot(x='species',y='petal_length', data=iris)\n",
    "plt.show()"
   ]
  },
  {
   "cell_type": "markdown",
   "metadata": {
    "colab_type": "text",
    "id": "3S8dI16V7eVC"
   },
   "source": [
    "# (3.8) Violin plots"
   ]
  },
  {
   "cell_type": "code",
   "execution_count": null,
   "metadata": {
    "colab": {},
    "colab_type": "code",
    "id": "ha1SwMC47eVE",
    "outputId": "629aa3d3-15b9-473b-bdd8-95d115bb0634"
   },
   "outputs": [],
   "source": [
    "# A violin plot combines the benefits of the previous two plots \n",
    "#and simplifies them\n",
    "\n",
    "# Denser regions of the data are fatter, and sparser ones thinner \n",
    "#in a violin plot\n",
    "\n",
    "sns.violinplot(x=\"species\", y=\"petal_length\", data=iris, size=8)\n",
    "plt.show()"
   ]
  },
  {
   "cell_type": "markdown",
   "metadata": {
    "colab_type": "text",
    "id": "axQROeiL7eVK"
   },
   "source": [
    "# (3.9) Summarizing plots in english\n",
    "* Exaplain your findings/conclusions in plain english\n",
    "* Never forget your objective (the probelm you are solving) . Perform all of your EDA aligned with your objectives.\n",
    "\n",
    "# (3.10) Univariate, bivariate and multivariate analysis."
   ]
  },
  {
   "cell_type": "code",
   "execution_count": null,
   "metadata": {
    "colab": {},
    "colab_type": "code",
    "id": "M0TFvvkr7eVL",
    "outputId": "3c4efcfb-03b1-4b9d-e72b-c58de1b6ca9b"
   },
   "outputs": [],
   "source": [
    "\n",
    "\n",
    "Def: Univariate, Bivariate and Multivariate analysis.\n"
   ]
  },
  {
   "cell_type": "markdown",
   "metadata": {
    "colab_type": "text",
    "id": "k1TGpk-77eVP"
   },
   "source": [
    "# (3.11) Multivariate probability density, contour plot.\n"
   ]
  },
  {
   "cell_type": "code",
   "execution_count": null,
   "metadata": {
    "colab": {},
    "colab_type": "code",
    "id": "C9HUB0R37eVQ"
   },
   "outputs": [],
   "source": [
    "#2D Density plot, contors-plot\n",
    "sns.jointplot(x=\"petal_length\", y=\"petal_width\", data=iris_setosa, kind=\"kde\");\n",
    "plt.show();\n"
   ]
  },
  {
   "cell_type": "markdown",
   "metadata": {
    "colab_type": "text",
    "id": "64iyVP9u7eVU"
   },
   "source": [
    "# (3.12) Exercise:\n",
    "\n",
    "1. Download Haberman Cancer Survival dataset from Kaggle. You may have to create a Kaggle account to donwload data. (https://www.kaggle.com/gilsousa/habermans-survival-data-set)\n",
    "2. Perform a similar alanlaysis as above on this dataset with the following sections:\n",
    "* High level statistics of the dataset: number of points, numer of   features, number of classes, data-points per class.\n",
    "* Explain our objective. \n",
    "* Perform Univaraite analysis(PDF, CDF, Boxplot, Voilin plots) to understand which features are useful towards classification.\n",
    "* Perform Bi-variate analysis (scatter plots, pair-plots) to see if combinations of features are useful in classfication.\n",
    "* Write your observations in english as crisply and unambigously as possible. Always quantify your results."
   ]
  },
  {
   "cell_type": "code",
   "execution_count": null,
   "metadata": {
    "colab": {},
    "colab_type": "code",
    "id": "B1ttMbq67eVU"
   },
   "outputs": [],
   "source": [
    "iris_virginica_SW = iris_virginica.iloc[:,1]\n",
    "iris_versicolor_SW = iris_versicolor.iloc[:,1]\n",
    "\n"
   ]
  },
  {
   "cell_type": "code",
   "execution_count": null,
   "metadata": {
    "colab": {},
    "colab_type": "code",
    "id": "bRfRxR0X7eVX"
   },
   "outputs": [],
   "source": [
    "from scipy import stats\n",
    "stats.ks_2samp(iris_virginica_SW, iris_versicolor_SW)\n"
   ]
  },
  {
   "cell_type": "code",
   "execution_count": null,
   "metadata": {
    "colab": {},
    "colab_type": "code",
    "id": "g0mtgBgD7eVa"
   },
   "outputs": [],
   "source": [
    "x = stats.norm.rvs(loc=0.2, size=10)\n",
    "stats.kstest(x,'norm')\n"
   ]
  },
  {
   "cell_type": "code",
   "execution_count": null,
   "metadata": {
    "colab": {},
    "colab_type": "code",
    "id": "KYFI7qk-7eVd"
   },
   "outputs": [],
   "source": [
    "x = stats.norm.rvs(loc=0.2, size=100)\n",
    "stats.kstest(x,'norm')\n"
   ]
  },
  {
   "cell_type": "code",
   "execution_count": null,
   "metadata": {
    "colab": {},
    "colab_type": "code",
    "id": "CVMtqP_h7eVh"
   },
   "outputs": [],
   "source": [
    "x = stats.norm.rvs(loc=0.2, size=1000)\n",
    "stats.kstest(x,'norm')\n"
   ]
  },
  {
   "cell_type": "code",
   "execution_count": null,
   "metadata": {
    "colab": {},
    "colab_type": "code",
    "id": "Sy-AO9SZ7eVj"
   },
   "outputs": [],
   "source": []
  }
 ],
 "metadata": {
  "colab": {
   "name": "Exploratory Data Analysis..ipynb",
   "provenance": [],
   "version": "0.3.2"
  },
  "kernelspec": {
   "display_name": "Python 3",
   "language": "python",
   "name": "python3"
  },
  "language_info": {
   "codemirror_mode": {
    "name": "ipython",
    "version": 3
   },
   "file_extension": ".py",
   "mimetype": "text/x-python",
   "name": "python",
   "nbconvert_exporter": "python",
   "pygments_lexer": "ipython3",
   "version": "3.6.5"
  }
 },
 "nbformat": 4,
 "nbformat_minor": 1
}
