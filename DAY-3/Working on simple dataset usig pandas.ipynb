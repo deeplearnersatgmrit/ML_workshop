{
 "cells": [
  {
   "cell_type": "code",
   "execution_count": null,
   "metadata": {},
   "outputs": [],
   "source": [
    "import pandas as pd"
   ]
  },
  {
   "cell_type": "code",
   "execution_count": null,
   "metadata": {},
   "outputs": [],
   "source": [
    "data=[[1,0,1,0,1,'Malaria'],[1,0,0,1,0,'Diaria'],[0,1,1,0,1,'Jondis'],[1,1,1,0,0,'Typoid'],[1,0,0,0,1,'Chicker gunia']]"
   ]
  },
  {
   "cell_type": "code",
   "execution_count": null,
   "metadata": {},
   "outputs": [],
   "source": [
    "df=pd.DataFrame(data,columns=['c1','c2','c3','c4','c5','P'])"
   ]
  },
  {
   "cell_type": "code",
   "execution_count": null,
   "metadata": {},
   "outputs": [],
   "source": [
    "df"
   ]
  },
  {
   "cell_type": "code",
   "execution_count": null,
   "metadata": {},
   "outputs": [],
   "source": [
    "while(True):\n",
    "    c1,c2,c3,c4,c5=map(int,input(\"Enter the features of the patient as 0's and 1's for features fever,cough,cold,vomting,headach\").split())\n",
    "    if(c1==df['c1'][0] and c2==df['c2'][0] and c3==df['c3'][0] and c4==df['c4'][0] and c5==df['c5'][0]):\n",
    "        print(df['P'][0])\n",
    "    elif(c1==df['c1'][1] and c2==df['c2'][1] and c3==df['c3'][1] and c4==df['c4'][1] and c5==df['c5'][1]):\n",
    "        print(df['P'][1])\n",
    "    elif(c1==df['c1'][2] and c2==df['c2'][2] and c3==df['c3'][2] and c4==df['c4'][2] and c5==df['c5'][2]):\n",
    "        print(df['P'][2])\n",
    "    elif(c1==df['c1'][3] and c2==df['c2'][3] and c3==df['c3'][3] and c4==df['c4'][3] and c5==df['c5'][3]):\n",
    "        print(df['P'][3])\n",
    "    elif(c1==df['c1'][4] and c2==df['c2'][4] and c3==df['c3'][4] and c4==df['c4'][4] and c5==df['c5'][4]):\n",
    "        print(df['P'][4])\n",
    "    else:\n",
    "        print(\"Other\")\n",
    "    print(\"\")\n",
    "    des=input(\"Do you want to continue\").strip()\n",
    "    if(des=='yes'):\n",
    "        continue\n",
    "    else:\n",
    "        break    "
   ]
  },
  {
   "cell_type": "code",
   "execution_count": null,
   "metadata": {},
   "outputs": [],
   "source": [
    "cluster1={df['P'][0]:3,df['P'][2]:3,df['P'][3]:3}\n",
    "cluster2={df['P'][1]:2,df['P'][4]:2}"
   ]
  },
  {
   "cell_type": "code",
   "execution_count": null,
   "metadata": {},
   "outputs": [],
   "source": [
    "print(\"Cluster1 is:\")\n",
    "for i in cluster1.items():\n",
    "    print(i[1],i[0])\n",
    "print(\"Cluster2 is:\")\n",
    "for i in cluster2.items():\n",
    "    print(i[1],i[0])"
   ]
  },
  {
   "cell_type": "code",
   "execution_count": null,
   "metadata": {},
   "outputs": [],
   "source": [
    "\n",
    "for i in range(5):\n",
    "    if(df['c5'][i]==1 and df['c3'][i]==1 and df['c2'][i]==1):\n",
    "        print(df['P'][i])\n",
    "    if(df['c5'][i]==1 and df['c3'][i]==1 and df['c2'][i]==0):\n",
    "        print(df['P'][i])\n",
    "    if(df['c5'][i]==1 and df['c3'][i]==0 and df['c2'][i]==0):\n",
    "        print(df['P'][i])\n",
    "    if(df['c5'][i]==1 and df['c3'][i]==0 and df['c2'][i]==0):\n",
    "        print(df['P'][i])\n",
    "    if(df['c5'][i]==0 and df['c3'][i]==0 and df['c2'][i]==0):\n",
    "        print(df['P'][i])"
   ]
  }
 ],
 "metadata": {
  "kernelspec": {
   "display_name": "Python 3",
   "language": "python",
   "name": "python3"
  },
  "language_info": {
   "codemirror_mode": {
    "name": "ipython",
    "version": 3
   },
   "file_extension": ".py",
   "mimetype": "text/x-python",
   "name": "python",
   "nbconvert_exporter": "python",
   "pygments_lexer": "ipython3",
   "version": "3.7.3"
  }
 },
 "nbformat": 4,
 "nbformat_minor": 2
}
