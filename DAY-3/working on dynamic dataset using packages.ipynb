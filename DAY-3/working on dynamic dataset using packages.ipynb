{
 "cells": [
  {
   "cell_type": "code",
   "execution_count": 1,
   "metadata": {},
   "outputs": [],
   "source": [
    "import numpy as np\n",
    "import random"
   ]
  },
  {
   "cell_type": "code",
   "execution_count": 2,
   "metadata": {},
   "outputs": [
    {
     "name": "stdout",
     "output_type": "stream",
     "text": [
      "Enter number of tuples3\n",
      "Enter number of features5\n"
     ]
    }
   ],
   "source": [
    " n,m=int(input('Enter number of tuples')),int(input('Enter number of features'))"
   ]
  },
  {
   "cell_type": "code",
   "execution_count": 3,
   "metadata": {},
   "outputs": [
    {
     "name": "stdout",
     "output_type": "stream",
     "text": [
      "1 0 1 0 1\n",
      "1 0 0 1 0\n",
      "0 1 1 0 1\n"
     ]
    }
   ],
   "source": [
    "r=[]\n",
    "q=[]\n",
    "for i in range(n):\n",
    "    q.append(list(map(int,input().split())))\n",
    "r=np.array(q)\n",
    "rr=r       "
   ]
  },
  {
   "cell_type": "code",
   "execution_count": 4,
   "metadata": {},
   "outputs": [
    {
     "name": "stdout",
     "output_type": "stream",
     "text": [
      "enter disese  1\n",
      "diaria\n",
      "enter disese  2\n",
      "malaria\n",
      "enter disese  3\n",
      "fever\n",
      "[1 0 1 0 1] diaria\n",
      "[1 0 0 1 0] malaria\n",
      "[0 1 1 0 1] fever\n"
     ]
    }
   ],
   "source": [
    "y=[]\n",
    "for i in range(n):\n",
    "    print(\"enter disese \",i+1)\n",
    "    disease=y.append(input())\n",
    "for i in range(n):\n",
    "    print(rr[i],y[i])\n"
   ]
  },
  {
   "cell_type": "code",
   "execution_count": 5,
   "metadata": {},
   "outputs": [
    {
     "name": "stdout",
     "output_type": "stream",
     "text": [
      "enter mathcing elements\n",
      "1 0 1 0 1\n",
      "disease is diaria\n",
      "Do you want to continue(Y/N)\n",
      "N\n"
     ]
    }
   ],
   "source": [
    "print('enter mathcing elements')\n",
    "while(True):\n",
    "    a=np.array(list(map(int,input().split())))\n",
    "    for i in range(len(rr)):\n",
    "        if np.array_equal(rr[i],a):\n",
    "            print(\"disease is\",y[i])\n",
    "            k=1\n",
    "            break\n",
    "    if(k==0):\n",
    "        print(\"Doesn't exist\")\n",
    "    print(\"Do you want to continue(Y/N)\")\n",
    "    choice=input()\n",
    "    if(choice!='Y'):\n",
    "        break"
   ]
  },
  {
   "cell_type": "code",
   "execution_count": 7,
   "metadata": {},
   "outputs": [
    {
     "name": "stdout",
     "output_type": "stream",
     "text": [
      "{3: ['diaria', 'fever'], 2: ['malaria']}\n"
     ]
    }
   ],
   "source": [
    "cluster={}\n",
    "for i in range(len(rr)):\n",
    "    count=np.sum(rr[i])\n",
    "    cluster[count]=cluster.get(count,[])+[y[i]]\n",
    "\n",
    "print(cluster)    "
   ]
  },
  {
   "cell_type": "code",
   "execution_count": 13,
   "metadata": {},
   "outputs": [
    {
     "name": "stdout",
     "output_type": "stream",
     "text": [
      "{'diaria': 2, 'fever': 3}\n"
     ]
    }
   ],
   "source": [
    "a={}\n",
    "for i in cluster:\n",
    "    if len(cluster[i])>1:\n",
    "        for j in cluster[i]:\n",
    "            m=y.index(j)\n",
    "            f=rr[m][1]+rr[m][2]+rr[m][4]\n",
    "            a[j]=f\n",
    "print(a)"
   ]
  },
  {
   "cell_type": "code",
   "execution_count": null,
   "metadata": {},
   "outputs": [],
   "source": []
  }
 ],
 "metadata": {
  "kernelspec": {
   "display_name": "Python 3",
   "language": "python",
   "name": "python3"
  },
  "language_info": {
   "codemirror_mode": {
    "name": "ipython",
    "version": 3
   },
   "file_extension": ".py",
   "mimetype": "text/x-python",
   "name": "python",
   "nbconvert_exporter": "python",
   "pygments_lexer": "ipython3",
   "version": "3.7.1"
  }
 },
 "nbformat": 4,
 "nbformat_minor": 2
}
