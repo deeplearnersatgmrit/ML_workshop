{
 "cells": [
  {
   "cell_type": "code",
   "execution_count": 1,
   "metadata": {},
   "outputs": [],
   "source": [
    "import numpy as np"
   ]
  },
  {
   "cell_type": "code",
   "execution_count": 2,
   "metadata": {},
   "outputs": [
    {
     "name": "stdout",
     "output_type": "stream",
     "text": [
      "[[1 0 1 0 1]\n",
      " [1 0 0 1 0]\n",
      " [0 1 1 0 1]\n",
      " [1 1 1 0 0]\n",
      " [1 0 0 0 1]]\n"
     ]
    }
   ],
   "source": [
    "x_original=np.array([[1,0,1,0,1],[1,0,0,1,0],[0,1,1,0,1],[1,1,1,0,0],[1,0,0,0,1]])\n",
    "print(x_original)"
   ]
  },
  {
   "cell_type": "code",
   "execution_count": 4,
   "metadata": {},
   "outputs": [
    {
     "name": "stdout",
     "output_type": "stream",
     "text": [
      "[1 0 1 0 1] Malaria\n",
      "[1 0 0 1 0] Dengue\n",
      "[0 1 1 0 1] Jaundice\n",
      "[1 1 1 0 0] Typhoid\n",
      "[1 0 0 0 1] high fever\n"
     ]
    }
   ],
   "source": [
    "y=[\"Malaria\",\"Dengue\",\"Jaundice\",\"Typhoid\",\"high fever\"]\n",
    "for i in range(len(x_original)):\n",
    "    print(x_original[i],y[i])\n",
    "x=x_original"
   ]
  },
  {
   "cell_type": "markdown",
   "metadata": {},
   "source": [
    "**Identifying Matchings**"
   ]
  },
  {
   "cell_type": "code",
   "execution_count": 6,
   "metadata": {},
   "outputs": [
    {
     "name": "stdout",
     "output_type": "stream",
     "text": [
      "Enter the features in 0's and 1's\n",
      "1 0 0 0 1\n",
      "You are suffering from high fever\n",
      "Do You want to continue y/ny\n",
      "Enter the features in 0's and 1's\n",
      "1 0 0 1 0\n",
      "You are suffering from Dengue\n",
      "Do You want to continue y/nn\n"
     ]
    }
   ],
   "source": [
    "while(True):\n",
    "    print(\"Enter the features in 0's and 1's\")\n",
    "    check=np.array([int(i) for i in input().split()])\n",
    "    for i in range(len(x)):\n",
    "        if np.array_equal(x[i],check):\n",
    "            print(\"You are suffering from\",y[i])\n",
    "            break\n",
    "    else:\n",
    "        print(\"There is no data in the database.\")\n",
    "    stop=input('Do You want to continue y/n')\n",
    "    if stop==\"n\":\n",
    "        break"
   ]
  },
  {
   "cell_type": "markdown",
   "metadata": {},
   "source": [
    "**Dividing into clusters**"
   ]
  },
  {
   "cell_type": "code",
   "execution_count": 10,
   "metadata": {},
   "outputs": [
    {
     "name": "stdout",
     "output_type": "stream",
     "text": [
      "cluster1\n",
      "Malaria 3\n",
      "Jaundice 3\n",
      "Typhoid 3\n",
      "\n",
      "cluster2\n",
      "Dengue 2\n",
      "high fever 2\n",
      "\n"
     ]
    }
   ],
   "source": [
    "cluster={\"cluster1\":[],\"cluster2\":[]}\n",
    "for i in range(len(x)):\n",
    "    ones=x[i].sum()\n",
    "    if ones>=3:\n",
    "        cluster[\"cluster1\"].append([y[i],ones])\n",
    "    else:\n",
    "        cluster[\"cluster2\"].append([y[i],ones])\n",
    "for i in cluster:\n",
    "    print(i)\n",
    "    for j in cluster[i]:\n",
    "        print(j[0],j[1])\n",
    "    print()"
   ]
  },
  {
   "cell_type": "markdown",
   "metadata": {},
   "source": [
    "**Classification among the Clusters**"
   ]
  },
  {
   "cell_type": "code",
   "execution_count": 13,
   "metadata": {},
   "outputs": [
    {
     "name": "stdout",
     "output_type": "stream",
     "text": [
      "cluster1\n",
      "Malaria 2\n",
      "Jaundice 3\n",
      "Typhoid 2\n",
      "\n",
      "cluster2\n",
      "Dengue 0\n",
      "high fever 1\n",
      "\n"
     ]
    }
   ],
   "source": [
    "for i in cluster:\n",
    "    print(i)\n",
    "    for j in cluster[i]:\n",
    "        index=y.index(j[0])\n",
    "        prominent=x[index][1]+x[index][2]+x[index][4]\n",
    "        print(j[0],prominent)\n",
    "    print()"
   ]
  },
  {
   "cell_type": "code",
   "execution_count": null,
   "metadata": {},
   "outputs": [],
   "source": []
  }
 ],
 "metadata": {
  "kernelspec": {
   "display_name": "Python 3",
   "language": "python",
   "name": "python3"
  },
  "language_info": {
   "codemirror_mode": {
    "name": "ipython",
    "version": 3
   },
   "file_extension": ".py",
   "mimetype": "text/x-python",
   "name": "python",
   "nbconvert_exporter": "python",
   "pygments_lexer": "ipython3",
   "version": "3.6.5"
  }
 },
 "nbformat": 4,
 "nbformat_minor": 2
}
