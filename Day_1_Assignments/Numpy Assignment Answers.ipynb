{
 "cells": [
  {
   "cell_type": "code",
   "execution_count": 4,
   "metadata": {},
   "outputs": [],
   "source": [
    "import numpy\n",
    "my_array=numpy.array([[1,2,3],[4,5,6],[7,8,9]])"
   ]
  },
  {
   "cell_type": "markdown",
   "metadata": {},
   "source": [
    "1. You are given the shape of the array in the form of space-separated integers, each integer representing the size of different dimensions, your task is to print an array of the given shape and integer type using the tools numpy.zeros and numpy.ones.\n"
   ]
  },
  {
   "cell_type": "code",
   "execution_count": 5,
   "metadata": {},
   "outputs": [
    {
     "name": "stdout",
     "output_type": "stream",
     "text": [
      "[[0 0 0]\n",
      " [0 0 0]\n",
      " [0 0 0]]\n",
      "[[1 1 1]\n",
      " [1 1 1]\n",
      " [1 1 1]]\n"
     ]
    }
   ],
   "source": [
    "print(numpy.zeros([3,3], dtype = numpy.int)) \n",
    "print(numpy.ones([3,3], dtype = numpy.int))"
   ]
  },
  {
   "cell_type": "markdown",
   "metadata": {},
   "source": [
    "2. You are given a 2-D array with dimensions  N X M\n",
    "Your task is to perform the min function over axis 1 and then find the max of that."
   ]
  },
  {
   "cell_type": "code",
   "execution_count": 7,
   "metadata": {},
   "outputs": [
    {
     "name": "stdout",
     "output_type": "stream",
     "text": [
      "7\n"
     ]
    }
   ],
   "source": [
    "print(numpy.max(numpy.min(my_array, axis = 1)))"
   ]
  },
  {
   "cell_type": "markdown",
   "metadata": {},
   "source": [
    "3. You are given a 2-D array with dimensions  N X M\n",
    "Your task is to perform the SUM function over axis 0 and then find the PRODUCT of that."
   ]
  },
  {
   "cell_type": "code",
   "execution_count": 8,
   "metadata": {},
   "outputs": [
    {
     "name": "stdout",
     "output_type": "stream",
     "text": [
      "3240\n"
     ]
    }
   ],
   "source": [
    "print(numpy.prod( numpy.sum( my_array, axis = 0 )))"
   ]
  },
  {
   "cell_type": "markdown",
   "metadata": {},
   "source": [
    "4. You are given a 2-D array of size N X M\n",
    "\n",
    "Your task is to find:\n",
    "\n",
    "    The mean along axis 1\n",
    "    The var along axis 0\n",
    "    The std along axis None\n"
   ]
  },
  {
   "cell_type": "code",
   "execution_count": 9,
   "metadata": {},
   "outputs": [
    {
     "name": "stdout",
     "output_type": "stream",
     "text": [
      "[2. 5. 8.]\n",
      "[6. 6. 6.]\n",
      "2.581988897471611\n"
     ]
    }
   ],
   "source": [
    "print(numpy.mean(my_array, axis = 1))\n",
    "print(numpy.var(my_array, axis = 0))\n",
    "print(numpy.std(my_array, axis = None))"
   ]
  },
  {
   "cell_type": "markdown",
   "metadata": {},
   "source": [
    "5. Write a program to implement y=x^2+logx without using loops. x may be a scalar or vector or tensor (n-dimensional array)."
   ]
  },
  {
   "cell_type": "code",
   "execution_count": 13,
   "metadata": {},
   "outputs": [
    {
     "name": "stdout",
     "output_type": "stream",
     "text": [
      "[ 1.          4.69314718 10.09861229 17.38629436 26.60943791 37.79175947\n",
      " 50.94591015 66.07944154 83.19722458]\n"
     ]
    }
   ],
   "source": [
    "x=numpy.arange(1,10)\n",
    "y=x*x+numpy.log(x)\n",
    "print(y)"
   ]
  },
  {
   "cell_type": "markdown",
   "metadata": {},
   "source": [
    "6. Implement (X- μ)/ σ ,where μ is mean of x and  σ is the standard deviation of X, without using loops. X may be a scalar or vector or tensor."
   ]
  },
  {
   "cell_type": "code",
   "execution_count": 14,
   "metadata": {},
   "outputs": [
    {
     "name": "stdout",
     "output_type": "stream",
     "text": [
      "[-1.54919334 -1.161895   -0.77459667 -0.38729833  0.          0.38729833\n",
      "  0.77459667  1.161895    1.54919334]\n"
     ]
    }
   ],
   "source": [
    "x=numpy.arange(1,10)\n",
    "mue=numpy.mean(x)\n",
    "sigma=numpy.std(x)\n",
    "print((x-mue)/sigma)"
   ]
  }
 ],
 "metadata": {
  "kernelspec": {
   "display_name": "Python 3",
   "language": "python",
   "name": "python3"
  },
  "language_info": {
   "codemirror_mode": {
    "name": "ipython",
    "version": 3
   },
   "file_extension": ".py",
   "mimetype": "text/x-python",
   "name": "python",
   "nbconvert_exporter": "python",
   "pygments_lexer": "ipython3",
   "version": "3.7.4"
  }
 },
 "nbformat": 4,
 "nbformat_minor": 2
}
